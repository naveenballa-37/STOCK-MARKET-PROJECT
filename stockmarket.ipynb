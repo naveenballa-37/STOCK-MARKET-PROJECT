{
 "cells": [
  {
   "cell_type": "code",
   "execution_count": 1,
   "id": "22667434-c906-4683-9e7b-1ccb70d71ee5",
   "metadata": {},
   "outputs": [],
   "source": [
    "import pandas as pd\n",
    "import numpy as np\n",
    "import matplotlib.pyplot as plt\n",
    "import chart_studio.plotly as py\n",
    "import plotly.graph_objs as go\n",
    "from plotly.offline import plot\n",
    "from sklearn.model_selection import train_test_split\n",
    "from sklearn.preprocessing import StandardScaler\n",
    "from sklearn.metrics import mean_squared_error as mse\n",
    "from sklearn.metrics import r2_score\n",
    "from sklearn.linear_model import LinearRegression"
   ]
  },
  {
   "cell_type": "code",
   "execution_count": 5,
   "id": "430c078a-0268-4878-8bb1-32e57f9b56b3",
   "metadata": {},
   "outputs": [],
   "source": [
    "import warnings\n",
    "warnings.simplefilter(action='ignore', category=FutureWarning)\n",
    "warnings.simplefilter(action='ignore', category=UserWarning)"
   ]
  },
  {
   "cell_type": "code",
   "execution_count": 7,
   "id": "b9f05b08-eeb0-4a3c-9b51-a0f51bbb9d2d",
   "metadata": {},
   "outputs": [],
   "source": [
    "Tesla_data = pd.read_csv(\"tesla.csv\")\n",
    "Head_data = Tesla_data.head()\n",
    "Tesla_data['Date'] = pd.to_datetime(Tesla_data['Date'])"
   ]
  },
  {
   "cell_type": "code",
   "execution_count": 9,
   "id": "162d3baf-24f4-425e-baad-316554b7baa3",
   "metadata": {},
   "outputs": [
    {
     "name": "stdout",
     "output_type": "stream",
     "text": [
      "Dataframe contains stock prices between 2010-06-29 00:00:00 2019-03-15 00:00:00\n",
      "Total days = 3181 days\n"
     ]
    }
   ],
   "source": [
    "print(f'Dataframe contains stock prices between {Tesla_data.Date.min()} {Tesla_data.Date.max()}')\n",
    "print(f'Total days = {(Tesla_data.Date.max() - Tesla_data.Date.min()).days} days')"
   ]
  },
  {
   "cell_type": "code",
   "execution_count": 11,
   "id": "7ce96f4f-0f3b-4db9-b193-a7bf95c62eda",
   "metadata": {},
   "outputs": [
    {
     "data": {
      "text/plain": [
       "<Axes: >"
      ]
     },
     "execution_count": 11,
     "metadata": {},
     "output_type": "execute_result"
    },
    {
     "data": {
      "image/png": "[encoded data removed]",
      "text/plain": [
       "<Figure size 640x480 with 1 Axes>"
      ]
     },
     "metadata": {},
     "output_type": "display_data"
    }
   ],
   "source": [
    "Tesla_data[['Open', 'High', 'Low', 'Close', 'Adj Close']].plot(kind='box')"
   ]
  },
  {
   "cell_type": "code",
   "execution_count": 13,
   "id": "213e4ac9-d358-48a7-bc4c-b10e89549bbe",
   "metadata": {},
   "outputs": [],
   "source": [
    "layout = go.Layout(\n",
    "    title='Stock Prices of Tesla_data',\n",
    "    xaxis=dict(\n",
    "        title='Date',\n",
    "        titlefont=dict(\n",
    "            family='Courier New, monospace',\n",
    "            size=18,\n",
    "            color='#7f7f7f'\n",
    "        )\n",
    "    ),\n",
    "    yaxis=dict(\n",
    "        title='Price',\n",
    "        titlefont=dict(\n",
    "            family='Courier New, monospace',\n",
    "            size=18,\n",
    "            color='#7f7f7f'\n",
    "        )\n",
    "    )\n",
    ")"
   ]
  },
  {
   "cell_type": "code",
   "execution_count": 15,
   "id": "01e68e1b-0d83-4240-8884-6f34f7c2bb75",
   "metadata": {},
   "outputs": [],
   "source": [
    "Tesla_data_data = [{'x': Tesla_data['Date'], 'y': Tesla_data['Close']}]\n",
    "plot1 = go.Figure(data=Tesla_data_data, layout=layout)"
   ]
  },
  {
   "cell_type": "code",
   "execution_count": 17,
   "id": "1fbee7ec-c5c0-49d7-b8fe-dc7e6c660f60",
   "metadata": {},
   "outputs": [],
   "source": [
    "X = np.array(Tesla_data.index).reshape(-1, 1)\n",
    "Y = Tesla_data['Close']\n",
    "X_train, X_test, Y_train, Y_test = train_test_split(X, Y, test_size=0.3, random_state=101)"
   ]
  },
  {
   "cell_type": "code",
   "execution_count": 19,
   "id": "0b9fa99c-a04e-4629-bddb-1388896d94af",
   "metadata": {},
   "outputs": [],
   "source": [
    "scaler = StandardScaler().fit(X_train)"
   ]
  },
  {
   "cell_type": "code",
   "execution_count": 21,
   "id": "d8857373-2500-4e8d-932b-7ef05b36e07a",
   "metadata": {},
   "outputs": [
    {
     "name": "stdout",
     "output_type": "stream",
     "text": [
      "\n",
      "Metric           Train                Test        \n",
      "r2_score  0.8658871776828707\t0.8610649253244574\n",
      "MSE       1821.3833862936174\t1780.987539418845\n",
      "\n"
     ]
    }
   ],
   "source": [
    "lm = LinearRegression()\n",
    "lm.fit(X_train, Y_train)\n",
    "trace0 = go.Scatter(x=X_train.T[0], y=Y_train, mode='markers', name='Actual')\n",
    "trace1 = go.Scatter(x=X_train.T[0], y=lm.predict(X_train).T, mode='lines', name='Predicted')\n",
    "plot2 = go.Figure(data=[trace0, trace1], layout=layout)\n",
    "scores = f'''\n",
    "{'Metric'.ljust(10)}{'Train'.center(20)}{'Test'.center(20)}\n",
    "{'r2_score'.ljust(10)}{r2_score(Y_train, lm.predict(X_train))}\\t{r2_score(Y_test, lm.predict(X_test))}\n",
    "{'MSE'.ljust(10)}{mse(Y_train, lm.predict(X_train))}\\t{mse(Y_test, lm.predict(X_test))}\n",
    "'''\n",
    "print(scores)"
   ]
  },
  {
   "cell_type": "code",
   "execution_count": null,
   "id": "54b77822-8ef1-495e-8279-1757b805e069",
   "metadata": {},
   "outputs": [],
   "source": []
  }
 ],
 "metadata": {
  "kernelspec": {
   "display_name": "Python 3 (ipykernel)",
   "language": "python",
   "name": "python3"
  },
  "language_info": {
   "codemirror_mode": {
    "name": "ipython",
    "version": 3
   },
   "file_extension": ".py",
   "mimetype": "text/x-python",
   "name": "python",
   "nbconvert_exporter": "python",
   "pygments_lexer": "ipython3",
   "version": "3.12.7"
  }
 },
 "nbformat": 4,
 "nbformat_minor": 5
}
